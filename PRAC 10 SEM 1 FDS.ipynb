{
 "cells": [
  {
   "cell_type": "code",
   "execution_count": 1,
   "id": "4bd2cf98",
   "metadata": {},
   "outputs": [],
   "source": [
    "import pandas as pd\n",
    "import numpy as np\n",
    "import matplotlib.pyplot as plt\n",
    "import seaborn as sns\n",
    "import scipy.stats as stats\n",
    "from scipy.stats import ttest_1samp\n",
    "from statsmodels.stats.power import tt_ind_solve_power"
   ]
  },
  {
   "cell_type": "markdown",
   "id": "621b32f3",
   "metadata": {},
   "source": [
    "# T Test"
   ]
  },
  {
   "cell_type": "markdown",
   "id": "5b63739f",
   "metadata": {},
   "source": [
    "A t test is inferntial statistics which is used to determine if there is a significant difference between the menas of two groups which may be related in certain features\n",
    "\n",
    "T-test has 2 types: 1)One sampled test 2)Two sampled test\n",
    "\n",
    "t=(sample mean - population mean) / standard error"
   ]
  },
  {
   "cell_type": "code",
   "execution_count": 2,
   "id": "6617253d",
   "metadata": {},
   "outputs": [],
   "source": [
    "ages=[20,40,35,48,38,56,32,19,25,58,18,26,45,43,27,21,49,42,28,33,24,39,57,26,42,77,55,38,60,73]"
   ]
  },
  {
   "cell_type": "code",
   "execution_count": 3,
   "id": "0dad7988",
   "metadata": {},
   "outputs": [
    {
     "name": "stdout",
     "output_type": "stream",
     "text": [
      "39.8\n"
     ]
    }
   ],
   "source": [
    "ages_mean=np.mean(ages)\n",
    "print(ages_mean)"
   ]
  },
  {
   "cell_type": "code",
   "execution_count": 4,
   "id": "01496319",
   "metadata": {},
   "outputs": [
    {
     "data": {
      "text/plain": [
       "array([19, 55, 57, 56, 27, 20, 33, 35, 56, 32])"
      ]
     },
     "execution_count": 4,
     "metadata": {},
     "output_type": "execute_result"
    }
   ],
   "source": [
    "#Lets take sample\n",
    "sample_size=10\n",
    "age_sample=np.random.choice(ages,sample_size)\n",
    "age_sample"
   ]
  },
  {
   "cell_type": "code",
   "execution_count": 5,
   "id": "3c0b1eba",
   "metadata": {},
   "outputs": [],
   "source": [
    "from scipy.stats import ttest_1samp"
   ]
  },
  {
   "cell_type": "code",
   "execution_count": 7,
   "id": "fae367f7",
   "metadata": {},
   "outputs": [],
   "source": [
    "ttest,p_value=ttest_1samp(age_sample,33)"
   ]
  },
  {
   "cell_type": "code",
   "execution_count": 8,
   "id": "183d9321",
   "metadata": {},
   "outputs": [
    {
     "name": "stdout",
     "output_type": "stream",
     "text": [
      "0.2521663621596163\n"
     ]
    }
   ],
   "source": [
    "print(p_value)"
   ]
  },
  {
   "cell_type": "code",
   "execution_count": 9,
   "id": "8e5799ce",
   "metadata": {},
   "outputs": [
    {
     "name": "stdout",
     "output_type": "stream",
     "text": [
      "We are accepting null hypothesis\n"
     ]
    }
   ],
   "source": [
    "if p_value < 0.05:\n",
    "    print(\"We are rejecting null hypothesis\")\n",
    "else:\n",
    "    print(\"We are accepting null hypothesis\")"
   ]
  },
  {
   "cell_type": "code",
   "execution_count": 10,
   "id": "3619c0ea",
   "metadata": {},
   "outputs": [
    {
     "data": {
      "text/html": [
       "<div>\n",
       "<style scoped>\n",
       "    .dataframe tbody tr th:only-of-type {\n",
       "        vertical-align: middle;\n",
       "    }\n",
       "\n",
       "    .dataframe tbody tr th {\n",
       "        vertical-align: top;\n",
       "    }\n",
       "\n",
       "    .dataframe thead th {\n",
       "        text-align: right;\n",
       "    }\n",
       "</style>\n",
       "<table border=\"1\" class=\"dataframe\">\n",
       "  <thead>\n",
       "    <tr style=\"text-align: right;\">\n",
       "      <th></th>\n",
       "      <th>Roll No</th>\n",
       "      <th>Name</th>\n",
       "      <th>Sub1</th>\n",
       "      <th>Sub2</th>\n",
       "      <th>Sub3</th>\n",
       "      <th>Total</th>\n",
       "      <th>Result</th>\n",
       "    </tr>\n",
       "  </thead>\n",
       "  <tbody>\n",
       "    <tr>\n",
       "      <th>0</th>\n",
       "      <td>101</td>\n",
       "      <td>Akash</td>\n",
       "      <td>45</td>\n",
       "      <td>45</td>\n",
       "      <td>45</td>\n",
       "      <td>135</td>\n",
       "      <td>P</td>\n",
       "    </tr>\n",
       "    <tr>\n",
       "      <th>1</th>\n",
       "      <td>102</td>\n",
       "      <td>Manoj</td>\n",
       "      <td>35</td>\n",
       "      <td>45</td>\n",
       "      <td>42</td>\n",
       "      <td>122</td>\n",
       "      <td>P</td>\n",
       "    </tr>\n",
       "    <tr>\n",
       "      <th>2</th>\n",
       "      <td>103</td>\n",
       "      <td>Mrunal</td>\n",
       "      <td>29</td>\n",
       "      <td>26</td>\n",
       "      <td>30</td>\n",
       "      <td>85</td>\n",
       "      <td>P</td>\n",
       "    </tr>\n",
       "    <tr>\n",
       "      <th>3</th>\n",
       "      <td>104</td>\n",
       "      <td>Saurabh</td>\n",
       "      <td>38</td>\n",
       "      <td>35</td>\n",
       "      <td>29</td>\n",
       "      <td>102</td>\n",
       "      <td>P</td>\n",
       "    </tr>\n",
       "    <tr>\n",
       "      <th>4</th>\n",
       "      <td>105</td>\n",
       "      <td>Ashish</td>\n",
       "      <td>41</td>\n",
       "      <td>40</td>\n",
       "      <td>34</td>\n",
       "      <td>115</td>\n",
       "      <td>P</td>\n",
       "    </tr>\n",
       "    <tr>\n",
       "      <th>5</th>\n",
       "      <td>106</td>\n",
       "      <td>Sudhir</td>\n",
       "      <td>46</td>\n",
       "      <td>62</td>\n",
       "      <td>41</td>\n",
       "      <td>149</td>\n",
       "      <td>P</td>\n",
       "    </tr>\n",
       "    <tr>\n",
       "      <th>6</th>\n",
       "      <td>107</td>\n",
       "      <td>Ria</td>\n",
       "      <td>29</td>\n",
       "      <td>48</td>\n",
       "      <td>27</td>\n",
       "      <td>104</td>\n",
       "      <td>P</td>\n",
       "    </tr>\n",
       "    <tr>\n",
       "      <th>7</th>\n",
       "      <td>108</td>\n",
       "      <td>Prathana</td>\n",
       "      <td>43</td>\n",
       "      <td>33</td>\n",
       "      <td>33</td>\n",
       "      <td>109</td>\n",
       "      <td>P</td>\n",
       "    </tr>\n",
       "    <tr>\n",
       "      <th>8</th>\n",
       "      <td>109</td>\n",
       "      <td>Mihika</td>\n",
       "      <td>37</td>\n",
       "      <td>30</td>\n",
       "      <td>38</td>\n",
       "      <td>105</td>\n",
       "      <td>P</td>\n",
       "    </tr>\n",
       "    <tr>\n",
       "      <th>9</th>\n",
       "      <td>110</td>\n",
       "      <td>Shaurya</td>\n",
       "      <td>33</td>\n",
       "      <td>31</td>\n",
       "      <td>41</td>\n",
       "      <td>105</td>\n",
       "      <td>P</td>\n",
       "    </tr>\n",
       "  </tbody>\n",
       "</table>\n",
       "</div>"
      ],
      "text/plain": [
       "   Roll No      Name  Sub1  Sub2  Sub3  Total Result\n",
       "0      101     Akash    45    45    45    135      P\n",
       "1      102     Manoj    35    45    42    122      P\n",
       "2      103    Mrunal    29    26    30     85      P\n",
       "3      104   Saurabh    38    35    29    102      P\n",
       "4      105    Ashish    41    40    34    115      P\n",
       "5      106    Sudhir    46    62    41    149      P\n",
       "6      107       Ria    29    48    27    104      P\n",
       "7      108  Prathana    43    33    33    109      P\n",
       "8      109    Mihika    37    30    38    105      P\n",
       "9      110   Shaurya    33    31    41    105      P"
      ]
     },
     "execution_count": 10,
     "metadata": {},
     "output_type": "execute_result"
    }
   ],
   "source": [
    "df=pd.read_excel(\"E:/New folder/Result.xlsx\")\n",
    "df"
   ]
  },
  {
   "cell_type": "code",
   "execution_count": 11,
   "id": "4bd9e349",
   "metadata": {},
   "outputs": [
    {
     "data": {
      "text/html": [
       "<div>\n",
       "<style scoped>\n",
       "    .dataframe tbody tr th:only-of-type {\n",
       "        vertical-align: middle;\n",
       "    }\n",
       "\n",
       "    .dataframe tbody tr th {\n",
       "        vertical-align: top;\n",
       "    }\n",
       "\n",
       "    .dataframe thead th {\n",
       "        text-align: right;\n",
       "    }\n",
       "</style>\n",
       "<table border=\"1\" class=\"dataframe\">\n",
       "  <thead>\n",
       "    <tr style=\"text-align: right;\">\n",
       "      <th></th>\n",
       "      <th>Roll No</th>\n",
       "      <th>Sub1</th>\n",
       "      <th>Sub2</th>\n",
       "      <th>Sub3</th>\n",
       "      <th>Total</th>\n",
       "    </tr>\n",
       "  </thead>\n",
       "  <tbody>\n",
       "    <tr>\n",
       "      <th>count</th>\n",
       "      <td>10.00000</td>\n",
       "      <td>10.000000</td>\n",
       "      <td>10.000000</td>\n",
       "      <td>10.000000</td>\n",
       "      <td>10.000000</td>\n",
       "    </tr>\n",
       "    <tr>\n",
       "      <th>mean</th>\n",
       "      <td>105.50000</td>\n",
       "      <td>37.600000</td>\n",
       "      <td>39.500000</td>\n",
       "      <td>36.000000</td>\n",
       "      <td>113.100000</td>\n",
       "    </tr>\n",
       "    <tr>\n",
       "      <th>std</th>\n",
       "      <td>3.02765</td>\n",
       "      <td>6.168018</td>\n",
       "      <td>10.783217</td>\n",
       "      <td>6.236096</td>\n",
       "      <td>18.241893</td>\n",
       "    </tr>\n",
       "    <tr>\n",
       "      <th>min</th>\n",
       "      <td>101.00000</td>\n",
       "      <td>29.000000</td>\n",
       "      <td>26.000000</td>\n",
       "      <td>27.000000</td>\n",
       "      <td>85.000000</td>\n",
       "    </tr>\n",
       "    <tr>\n",
       "      <th>25%</th>\n",
       "      <td>103.25000</td>\n",
       "      <td>33.500000</td>\n",
       "      <td>31.500000</td>\n",
       "      <td>30.750000</td>\n",
       "      <td>104.250000</td>\n",
       "    </tr>\n",
       "    <tr>\n",
       "      <th>50%</th>\n",
       "      <td>105.50000</td>\n",
       "      <td>37.500000</td>\n",
       "      <td>37.500000</td>\n",
       "      <td>36.000000</td>\n",
       "      <td>107.000000</td>\n",
       "    </tr>\n",
       "    <tr>\n",
       "      <th>75%</th>\n",
       "      <td>107.75000</td>\n",
       "      <td>42.500000</td>\n",
       "      <td>45.000000</td>\n",
       "      <td>41.000000</td>\n",
       "      <td>120.250000</td>\n",
       "    </tr>\n",
       "    <tr>\n",
       "      <th>max</th>\n",
       "      <td>110.00000</td>\n",
       "      <td>46.000000</td>\n",
       "      <td>62.000000</td>\n",
       "      <td>45.000000</td>\n",
       "      <td>149.000000</td>\n",
       "    </tr>\n",
       "  </tbody>\n",
       "</table>\n",
       "</div>"
      ],
      "text/plain": [
       "         Roll No       Sub1       Sub2       Sub3       Total\n",
       "count   10.00000  10.000000  10.000000  10.000000   10.000000\n",
       "mean   105.50000  37.600000  39.500000  36.000000  113.100000\n",
       "std      3.02765   6.168018  10.783217   6.236096   18.241893\n",
       "min    101.00000  29.000000  26.000000  27.000000   85.000000\n",
       "25%    103.25000  33.500000  31.500000  30.750000  104.250000\n",
       "50%    105.50000  37.500000  37.500000  36.000000  107.000000\n",
       "75%    107.75000  42.500000  45.000000  41.000000  120.250000\n",
       "max    110.00000  46.000000  62.000000  45.000000  149.000000"
      ]
     },
     "execution_count": 11,
     "metadata": {},
     "output_type": "execute_result"
    }
   ],
   "source": [
    "df.describe()"
   ]
  },
  {
   "cell_type": "markdown",
   "id": "035ce945",
   "metadata": {},
   "source": [
    "Hypothesis Testing or Significance Testing is a set of formal procedures used by statisticians to either accept or reject statistical hypothesis.\n",
    "\n",
    "Null hypothesis, HO - represents a hypothesis of chance basis.\n",
    "\n",
    "Alternative hypothesis, Ha - represents a hypothesis of observations which are influenced by some non-random cause.\n",
    "\n",
    "(1)check if total mean value of marks is not more than 113.\n",
    "\n",
    "Null Hypothesis will be\n",
    "\n",
    "Ho : mu <= 113\n",
    "\n",
    "Alternate Hypothesis will be\n",
    "\n",
    "Ha : mu > 113\n",
    "\n",
    "One way hypothesis"
   ]
  },
  {
   "cell_type": "code",
   "execution_count": 12,
   "id": "8df87f65",
   "metadata": {},
   "outputs": [
    {
     "name": "stdout",
     "output_type": "stream",
     "text": [
      "Ho: mu <= 113\n",
      "Ha: mu > 113\n",
      "al: 0.05\n",
      "mu: 113\n",
      "[135 122  85 102 115 149 104 109 105 105]\n",
      "\n"
     ]
    }
   ],
   "source": [
    "Ho = \"mu <= 113\"\n",
    "# alt hyp\n",
    "Ha = \"mu > 113\"\n",
    "# alpha\n",
    "al = 0.05\n",
    "#mu -> mean\n",
    "mu = 113\n",
    "# tail type\n",
    "tt = 1\n",
    "# data\n",
    "marks = df['Total'].values\n",
    "print(\"Ho:\", Ho)\n",
    "print(\"Ha:\", Ha)\n",
    "print(\"al:\", al)\n",
    "print(\"mu:\", mu)\n",
    "print(marks)\n",
    "print(\"\")"
   ]
  },
  {
   "cell_type": "code",
   "execution_count": 13,
   "id": "8fc6de1b",
   "metadata": {},
   "outputs": [
    {
     "name": "stdout",
     "output_type": "stream",
     "text": [
      "t-stat 0.01733524930528476\n",
      "p-vals 0.9865473848679749\n",
      "1t pv 1.9730947697359498\n",
      "2t pv 0.9865473848679749\n"
     ]
    }
   ],
   "source": [
    "ts, pv = ttest_1samp(marks, mu)\n",
    "print(\"t-stat\",ts)\n",
    "print(\"p-vals\",pv)\n",
    "t2pv = pv\n",
    "t1pv = pv*2\n",
    "print(\"1t pv\",t1pv)\n",
    "print(\"2t pv\",t2pv)"
   ]
  },
  {
   "cell_type": "code",
   "execution_count": 14,
   "id": "ad17b39e",
   "metadata": {},
   "outputs": [
    {
     "name": "stdout",
     "output_type": "stream",
     "text": [
      "Null Hypothesis: Not Rejected\n",
      "Conclusion: mu <= 113\n"
     ]
    }
   ],
   "source": [
    "if tt == 1:\n",
    "    if t1pv < al:\n",
    "        print(\"Null Hypothesis: Rejected\")\n",
    "        print(\"Conclusion:\",Ha)\n",
    "    else:\n",
    "        print(\"Null Hypothesis: Not Rejected\")\n",
    "        print(\"Conclusion:\",Ho)\n",
    "else:\n",
    "    if t2pv < al/2:\n",
    "        print(\"Null Hypothesis: Rejected\")\n",
    "        print(\"Conclusion:\",Ha)\n",
    "    else:\n",
    "        print(\"Null Hypothesis: Not Rejected\")\n",
    "        print(\"Conclusion:\",Ho)"
   ]
  },
  {
   "cell_type": "markdown",
   "id": "685455f6",
   "metadata": {},
   "source": [
    "# two way hypothesis"
   ]
  },
  {
   "cell_type": "code",
   "execution_count": 15,
   "id": "8740dd19",
   "metadata": {},
   "outputs": [],
   "source": [
    "# null hyp\n",
    "Ho = \"mu = 113\"\n",
    "# alt hyp\n",
    "Ha = \"mu != 113\"\n",
    "# alpha\n",
    "al = 0.05\n",
    "# mu - mean\n",
    "mu = 113"
   ]
  },
  {
   "cell_type": "code",
   "execution_count": 16,
   "id": "a61f4ef2",
   "metadata": {},
   "outputs": [
    {
     "name": "stdout",
     "output_type": "stream",
     "text": [
      "Ho: mu = 113\n",
      "Ha: mu != 113\n",
      "al: 0.05\n",
      "mu: 113\n",
      "[135 122  85 102 115 149 104 109 105 105]\n",
      "\n"
     ]
    }
   ],
   "source": [
    "# tail type\n",
    "tt = 2\n",
    "# data\n",
    "marks = df['Total'].values\n",
    "print(\"Ho:\", Ho)\n",
    "print(\"Ha:\", Ha)\n",
    "print(\"al:\", al)\n",
    "print(\"mu:\", mu)\n",
    "print(marks)\n",
    "print(\"\")"
   ]
  },
  {
   "cell_type": "code",
   "execution_count": 17,
   "id": "4b22a5b2",
   "metadata": {},
   "outputs": [
    {
     "name": "stdout",
     "output_type": "stream",
     "text": [
      "t-stat 0.01733524930528476\n",
      "p-vals 0.9865473848679749\n",
      "1t pv 1.9730947697359498\n",
      "2t pv 0.9865473848679749\n"
     ]
    }
   ],
   "source": [
    "ts, pv = ttest_1samp(marks, mu)\n",
    "print(\"t-stat\",ts)\n",
    "print(\"p-vals\",pv)\n",
    "t2pv = pv\n",
    "t1pv = pv*2\n",
    "print(\"1t pv\",t1pv)\n",
    "print(\"2t pv\",t2pv)"
   ]
  },
  {
   "cell_type": "code",
   "execution_count": 18,
   "id": "6f1b13a9",
   "metadata": {},
   "outputs": [
    {
     "name": "stdout",
     "output_type": "stream",
     "text": [
      "Null Hypothesis: Not Rejected\n",
      "Conclusion: mu = 113\n"
     ]
    }
   ],
   "source": [
    "if tt == 1:\n",
    "    if t1pv < al:\n",
    "        print(\"Null Hypothesis: Rejected\")\n",
    "        print(\"Conclusion:\",Ha)\n",
    "    else:\n",
    "        print(\"Null Hypothesis: Not Rejected\")\n",
    "        print(\"Conclusion:\",Ho)\n",
    "else:\n",
    "    if t2pv < al/2:\n",
    "        print(\"Null Hypothesis: Rejected\")\n",
    "        print(\"Conclusion:\",Ha)\n",
    "    else:\n",
    "        print(\"Null Hypothesis: Not Rejected\")\n",
    "        print(\"Conclusion:\",Ho)"
   ]
  },
  {
   "cell_type": "markdown",
   "id": "30b6ec35",
   "metadata": {},
   "source": [
    "# AB Testing"
   ]
  },
  {
   "cell_type": "markdown",
   "id": "428c11d7",
   "metadata": {},
   "source": [
    "AB Testing is essentially an experiment where two or more variants of a page are shown to users at random, and statistical analysis is used to determine which variation performs better for a given conversion goal."
   ]
  },
  {
   "cell_type": "code",
   "execution_count": 19,
   "id": "31d52402",
   "metadata": {},
   "outputs": [],
   "source": [
    "sub1 = np.array([46,34,31,30,49,36,44,37,29,35])\n",
    "sub2 = np.array([40,22,36,43,29,37,40,26,28,34])"
   ]
  },
  {
   "cell_type": "code",
   "execution_count": 20,
   "id": "cf7fd342",
   "metadata": {},
   "outputs": [
    {
     "name": "stderr",
     "output_type": "stream",
     "text": [
      "C:\\ProgramData\\Anaconda3\\lib\\site-packages\\seaborn\\distributions.py:2557: FutureWarning: `distplot` is a deprecated function and will be removed in a future version. Please adapt your code to use either `displot` (a figure-level function with similar flexibility) or `histplot` (an axes-level function for histograms).\n",
      "  warnings.warn(msg, FutureWarning)\n"
     ]
    },
    {
     "data": {
      "text/plain": [
       "<AxesSubplot:ylabel='Density'>"
      ]
     },
     "execution_count": 20,
     "metadata": {},
     "output_type": "execute_result"
    },
    {
     "data": {
      "image/png": "[encoded data removed]",
      "text/plain": [
       "<Figure size 432x288 with 1 Axes>"
      ]
     },
     "metadata": {
      "needs_background": "light"
     },
     "output_type": "display_data"
    }
   ],
   "source": [
    "sns.distplot(sub1)"
   ]
  },
  {
   "cell_type": "code",
   "execution_count": 21,
   "id": "6e6cc850",
   "metadata": {},
   "outputs": [
    {
     "name": "stderr",
     "output_type": "stream",
     "text": [
      "C:\\ProgramData\\Anaconda3\\lib\\site-packages\\seaborn\\distributions.py:2557: FutureWarning: `distplot` is a deprecated function and will be removed in a future version. Please adapt your code to use either `displot` (a figure-level function with similar flexibility) or `histplot` (an axes-level function for histograms).\n",
      "  warnings.warn(msg, FutureWarning)\n"
     ]
    },
    {
     "data": {
      "text/plain": [
       "<AxesSubplot:ylabel='Density'>"
      ]
     },
     "execution_count": 21,
     "metadata": {},
     "output_type": "execute_result"
    },
    {
     "data": {
      "image/png": "[encoded data removed]",
      "text/plain": [
       "<Figure size 432x288 with 1 Axes>"
      ]
     },
     "metadata": {
      "needs_background": "light"
     },
     "output_type": "display_data"
    }
   ],
   "source": [
    "sns.distplot(sub2)"
   ]
  },
  {
   "cell_type": "code",
   "execution_count": 22,
   "id": "1da770dd",
   "metadata": {},
   "outputs": [
    {
     "data": {
      "text/plain": [
       "(1.1582810137580166, 0.26188706972319437)"
      ]
     },
     "execution_count": 22,
     "metadata": {},
     "output_type": "execute_result"
    }
   ],
   "source": [
    "t_stat, p_val= stats.ttest_ind(sub1,sub2)\n",
    "t_stat ,p_val"
   ]
  },
  {
   "cell_type": "code",
   "execution_count": 23,
   "id": "8fcc9dec",
   "metadata": {},
   "outputs": [
    {
     "data": {
      "text/plain": [
       "Ttest_indResult(statistic=1.1582810137580166, pvalue=0.26188706972319437)"
      ]
     },
     "execution_count": 23,
     "metadata": {},
     "output_type": "execute_result"
    }
   ],
   "source": [
    "#perform two sample t-test with equal variances\n",
    "stats.ttest_ind(sub1, sub2, equal_var=True)"
   ]
  },
  {
   "cell_type": "markdown",
   "id": "24a4e276",
   "metadata": {},
   "source": [
    "The t test statistics is 1.3659 and the corresponding two_sided p-value is 0.1887. Because the p-value of our test(0.1887) is greater than alpha = 0.05, we fail to reject the null hypothesis of the test.\n",
    "\n",
    "We do not have sufficient evidence to say that the mean marks of sub1 and sub2 between the two is different."
   ]
  },
  {
   "cell_type": "code",
   "execution_count": null,
   "id": "fa9ca1d0",
   "metadata": {},
   "outputs": [],
   "source": []
  }
 ],
 "metadata": {
  "kernelspec": {
   "display_name": "Python 3",
   "language": "python",
   "name": "python3"
  },
  "language_info": {
   "codemirror_mode": {
    "name": "ipython",
    "version": 3
   },
   "file_extension": ".py",
   "mimetype": "text/x-python",
   "name": "python",
   "nbconvert_exporter": "python",
   "pygments_lexer": "ipython3",
   "version": "3.8.8"
  }
 },
 "nbformat": 4,
 "nbformat_minor": 5
}
