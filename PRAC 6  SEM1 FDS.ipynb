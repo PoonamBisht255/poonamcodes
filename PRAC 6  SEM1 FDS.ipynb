{
 "cells": [
  {
   "cell_type": "code",
   "execution_count": 2,
   "id": "95fcabe2",
   "metadata": {},
   "outputs": [],
   "source": [
    "#for inline plots in jupyter\n",
    "%matplotlib inline\n",
    "#import matplotlib\n",
    "import matplotlib.pyplot as plt\n",
    "#for latex equations\n",
    "from IPython.display import Math, Latex\n",
    "# for displaying images\n",
    "from IPython.core.display import Image\n",
    "import numpy as np"
   ]
  },
  {
   "cell_type": "code",
   "execution_count": 3,
   "id": "7edf6345",
   "metadata": {},
   "outputs": [],
   "source": [
    "#import seaborn\n",
    "import seaborn as sns\n",
    "#setting for seaborn plotting style\n",
    "sns.set(color_codes=True)\n",
    "#settings for seaborn plot sizes\n",
    "sns.set(rc={'figure.figsize':(5,5)})"
   ]
  },
  {
   "cell_type": "markdown",
   "id": "1cc6571d",
   "metadata": {},
   "source": [
    "# UNIFORM DISTRIBUTION"
   ]
  },
  {
   "cell_type": "code",
   "execution_count": 4,
   "id": "e7b7d117",
   "metadata": {},
   "outputs": [
    {
     "data": {
      "text/plain": [
       "<matplotlib.collections.LineCollection at 0x239d42c4940>"
      ]
     },
     "execution_count": 4,
     "metadata": {},
     "output_type": "execute_result"
    },
    {
     "data": {
      "image/png": "[encoded data removed]",
      "text/plain": [
       "<Figure size 360x360 with 1 Axes>"
      ]
     },
     "metadata": {},
     "output_type": "display_data"
    }
   ],
   "source": [
    "from scipy.stats import randint\n",
    "import matplotlib.pyplot as plt\n",
    "fig,ax = plt.subplots(1,1)\n",
    "\n",
    "#Calculate a few first moments:\n",
    "\n",
    "low, high = 7,31\n",
    "mean, var, skew, kurt = randint.stats(low, high, moments=\"mvsk\")\n",
    "\n",
    "\n",
    "#Display the probability mas function (''pmf''):\n",
    "\n",
    "x= np.arange(randint.ppf(0.01,low, high), randint.ppf(0.99,low, high))\n",
    "ax.plot(x, randint.pmf(x, low, high), 'bo', ms=8, label='randint pmf')\n",
    "ax.vlines(x, 0, randint.pmf(x, low, high), colors='b', lw=5 ,alpha=0.5)"
   ]
  },
  {
   "cell_type": "markdown",
   "id": "9c33da25",
   "metadata": {},
   "source": [
    "# BERNOULLI DISTRIBUTION"
   ]
  },
  {
   "cell_type": "code",
   "execution_count": 5,
   "id": "66d1f051",
   "metadata": {},
   "outputs": [],
   "source": [
    "from scipy.stats import bernoulli\n",
    "data_bern = bernoulli.rvs(size=10000,p=0.6)"
   ]
  },
  {
   "cell_type": "code",
   "execution_count": 6,
   "id": "7a1024b7",
   "metadata": {},
   "outputs": [
    {
     "name": "stderr",
     "output_type": "stream",
     "text": [
      "C:\\ProgramData\\Anaconda3\\lib\\site-packages\\seaborn\\distributions.py:2557: FutureWarning: `distplot` is a deprecated function and will be removed in a future version. Please adapt your code to use either `displot` (a figure-level function with similar flexibility) or `histplot` (an axes-level function for histograms).\n",
      "  warnings.warn(msg, FutureWarning)\n"
     ]
    },
    {
     "data": {
      "text/plain": [
       "[Text(0.5, 0, 'Bernoulli Distribution'), Text(0, 0.5, 'Frequency')]"
      ]
     },
     "execution_count": 6,
     "metadata": {},
     "output_type": "execute_result"
    },
    {
     "data": {
      "image/png": "[encoded data removed]",
      "text/plain": [
       "<Figure size 360x360 with 1 Axes>"
      ]
     },
     "metadata": {},
     "output_type": "display_data"
    }
   ],
   "source": [
    "ax=sns.distplot(data_bern,\n",
    "              kde=False,\n",
    "              color=\"skyblue\",\n",
    "              hist_kws={\"linewidth\": 15,'alpha':1})\n",
    "ax.set(xlabel='Bernoulli Distribution', ylabel='Frequency')"
   ]
  },
  {
   "cell_type": "markdown",
   "id": "fbc87690",
   "metadata": {},
   "source": [
    "# BINOMIAL DISTRIBUTION"
   ]
  },
  {
   "cell_type": "code",
   "execution_count": 7,
   "id": "13fff14b",
   "metadata": {},
   "outputs": [],
   "source": [
    "from scipy.stats import binom\n",
    "data_binom=binom.rvs(n=10,p=0.8,size=10000)"
   ]
  },
  {
   "cell_type": "code",
   "execution_count": 8,
   "id": "d413a11c",
   "metadata": {},
   "outputs": [
    {
     "data": {
      "text/plain": [
       "[Text(0.5, 0, 'Binomial Distribution'), Text(0, 0.5, 'Frequency')]"
      ]
     },
     "execution_count": 8,
     "metadata": {},
     "output_type": "execute_result"
    },
    {
     "data": {
      "image/png": "[encoded data removed]",
      "text/plain": [
       "<Figure size 360x360 with 1 Axes>"
      ]
     },
     "metadata": {},
     "output_type": "display_data"
    }
   ],
   "source": [
    "ax=sns.distplot(data_binom,\n",
    "              kde=False,\n",
    "              color=\"skyblue\",\n",
    "              hist_kws={\"linewidth\": 15,'alpha':1})\n",
    "ax.set(xlabel='Binomial Distribution', ylabel='Frequency')"
   ]
  },
  {
   "cell_type": "markdown",
   "id": "c3c2fd77",
   "metadata": {},
   "source": [
    "# POISSON DISTRIBUTION"
   ]
  },
  {
   "cell_type": "code",
   "execution_count": 9,
   "id": "ad6448df",
   "metadata": {},
   "outputs": [],
   "source": [
    "from scipy.stats import poisson\n",
    "data_poisson = poisson.rvs(mu=3, size=10000)"
   ]
  },
  {
   "cell_type": "code",
   "execution_count": 10,
   "id": "851f2e0c",
   "metadata": {},
   "outputs": [
    {
     "data": {
      "text/plain": [
       "[Text(0.5, 0, 'Poisson Distribution'), Text(0, 0.5, 'Frequency')]"
      ]
     },
     "execution_count": 10,
     "metadata": {},
     "output_type": "execute_result"
    },
    {
     "data": {
      "image/png": "[encoded data removed]",
      "text/plain": [
       "<Figure size 360x360 with 1 Axes>"
      ]
     },
     "metadata": {},
     "output_type": "display_data"
    }
   ],
   "source": [
    "ax=sns.distplot(data_poisson,\n",
    "              kde=False,\n",
    "              color=\"skyblue\",\n",
    "              hist_kws={\"linewidth\": 15,'alpha':1})\n",
    "ax.set(xlabel='Poisson Distribution', ylabel='Frequency')"
   ]
  },
  {
   "cell_type": "code",
   "execution_count": null,
   "id": "11196dcd",
   "metadata": {},
   "outputs": [],
   "source": []
  }
 ],
 "metadata": {
  "kernelspec": {
   "display_name": "Python 3",
   "language": "python",
   "name": "python3"
  },
  "language_info": {
   "codemirror_mode": {
    "name": "ipython",
    "version": 3
   },
   "file_extension": ".py",
   "mimetype": "text/x-python",
   "name": "python",
   "nbconvert_exporter": "python",
   "pygments_lexer": "ipython3",
   "version": "3.8.8"
  }
 },
 "nbformat": 4,
 "nbformat_minor": 5
}
