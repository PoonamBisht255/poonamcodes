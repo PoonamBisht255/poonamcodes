{
 "cells": [
  {
   "cell_type": "code",
   "execution_count": 1,
   "metadata": {},
   "outputs": [],
   "source": [
    "import warnings\n",
    "warnings.filterwarnings('ignore')\n",
    "\n",
    "# imports\n",
    "# pandas \n",
    "import pandas as pd\n",
    "# numpy\n",
    "import numpy as np\n",
    "# matplotlib \n",
    "import matplotlib.pyplot as plt\n",
    "#%matplotlib inline\n",
    "plt.style.use('ggplot')\n",
    "# seaborn\n",
    "import seaborn as sns\n",
    "# utils\n",
    "import utils\n",
    "from sklearn.c import SV"
   ]
  },
  {
   "cell_type": "code",
   "execution_count": 2,
   "metadata": {},
   "outputs": [],
   "source": [
    "from statsmodels.formula.api import ols\n",
    "from scipy import stats\n",
    "import statsmodels.regression.linear_model as sm \n",
    "import statsmodels.api as s"
   ]
  },
  {
   "cell_type": "code",
   "execution_count": 3,
   "metadata": {},
   "outputs": [
    {
     "name": "stdout",
     "output_type": "stream",
     "text": [
      "\n",
      "*** Read Data ***\n",
      "Done ...\n"
     ]
    }
   ],
   "source": [
    "print(\"\\n*** Read Data ***\")\n",
    "df = pd.read_csv('Data/mlr-qtypriceads.csv')\n",
    "print(\"Done ...\")\n"
   ]
  },
  {
   "cell_type": "code",
   "execution_count": 4,
   "metadata": {},
   "outputs": [
    {
     "name": "stdout",
     "output_type": "stream",
     "text": [
      "\n",
      "*** Columns ***\n",
      "Index(['Qty Sold', 'Unit Price', 'Advertising'], dtype='object')\n",
      "\n",
      "*** Structure ***\n",
      "<class 'pandas.core.frame.DataFrame'>\n",
      "RangeIndex: 15 entries, 0 to 14\n",
      "Data columns (total 3 columns):\n",
      " #   Column       Non-Null Count  Dtype  \n",
      "---  ------       --------------  -----  \n",
      " 0   Qty Sold     15 non-null     int64  \n",
      " 1   Unit Price   15 non-null     float64\n",
      " 2   Advertising  15 non-null     int64  \n",
      "dtypes: float64(1), int64(2)\n",
      "memory usage: 488.0 bytes\n",
      "None\n",
      "\n",
      "*** Summary ***\n",
      "          Qty Sold  Unit Price  Advertising\n",
      "count    15.000000   15.000000    15.000000\n",
      "mean   6680.000000    4.066667  2000.000000\n",
      "std    1229.517908    1.678293  1225.327944\n",
      "min    4700.000000    2.000000   200.000000\n",
      "25%    5900.000000    2.750000  1050.000000\n",
      "50%    6500.000000    4.000000  1800.000000\n",
      "75%    7350.000000    5.250000  3000.000000\n",
      "max    9000.000000    7.000000  4000.000000\n",
      "\n",
      "*** Head ***\n",
      "   Qty Sold  Unit Price  Advertising\n",
      "0      8500         2.0         2800\n",
      "1      4700         5.0          200\n",
      "2      5800         3.0          400\n",
      "3      7400         2.0          500\n",
      "4      6200         5.0         3200\n"
     ]
    }
   ],
   "source": [
    "# columns\n",
    "print(\"\\n*** Columns ***\")\n",
    "print(df.columns)\n",
    "\n",
    "# info\n",
    "print(\"\\n*** Structure ***\")\n",
    "print(df.info())\n",
    "\n",
    "# summary\n",
    "print(\"\\n*** Summary ***\")\n",
    "#tdf = df.describe()\n",
    "#print(tdf)\n",
    "print(df.describe(include=np.number))\n",
    "#print(df.describe(include=np.object))\n",
    "\n",
    "# head\n",
    "print(\"\\n*** Head ***\")\n",
    "print(df.head())"
   ]
  },
  {
   "cell_type": "code",
   "execution_count": 5,
   "metadata": {},
   "outputs": [
    {
     "name": "stdout",
     "output_type": "stream",
     "text": [
      "\n",
      "*** Dep Vars ***\n",
      "Qty Sold\n"
     ]
    }
   ],
   "source": [
    "# store dep variable  \n",
    "# change as required\n",
    "depVars = \"Qty Sold\"\n",
    "print(\"\\n*** Dep Vars ***\")\n",
    "print(depVars)"
   ]
  },
  {
   "cell_type": "code",
   "execution_count": 6,
   "metadata": {},
   "outputs": [
    {
     "name": "stdout",
     "output_type": "stream",
     "text": [
      "\n",
      "*** Drop Cols ***\n",
      "Done ...\n",
      "\n",
      "*** Transformations ***\n",
      "None ...\n",
      "\n",
      "*** Outlier Count ***\n",
      "Qty Sold       0\n",
      "Unit Price     0\n",
      "Advertising    0\n",
      "dtype: int64\n",
      "\n",
      "*** Outlier Values ***\n",
      "Qty Sold       []\n",
      "Unit Price     []\n",
      "Advertising    []\n",
      "dtype: object\n",
      "\n",
      "*** Columns With Zeros ***\n",
      "Qty Sold       0\n",
      "Unit Price     0\n",
      "Advertising    0\n",
      "dtype: int64\n",
      "\n",
      "*** Variance In Columns ***\n",
      "Qty Sold       1.511714e+06\n",
      "Unit Price     2.816667e+00\n",
      "Advertising    1.501429e+06\n",
      "dtype: float64\n",
      "\n",
      "*** StdDev In Columns ***\n",
      "Qty Sold       1229.517908\n",
      "Unit Price        1.678293\n",
      "Advertising    1225.327944\n",
      "dtype: float64\n",
      "\n",
      "*** Same Value Cols Drop ***\n",
      "[]\n",
      "Done ...\n",
      "\n",
      "*** Null Value Cols Drop ***\n",
      "[]\n",
      "Done ...\n",
      "\n",
      "*** Columns With Nulls ***\n",
      "Qty Sold       0\n",
      "Unit Price     0\n",
      "Advertising    0\n",
      "dtype: int64\n",
      "\n",
      "*** Correlation Table ***\n",
      "             Qty Sold  Unit Price  Advertising\n",
      "Qty Sold        1.000      -0.662        0.412\n",
      "Unit Price     -0.662       1.000        0.219\n",
      "Advertising     0.412       0.219        1.000\n"
     ]
    }
   ],
   "source": [
    "# drop cols which contain identifiers, nominals, descriptions\n",
    "# change as required\n",
    "print(\"\\n*** Drop Cols ***\")\n",
    "#df = df.drop('id', axis=1)\n",
    "print(\"Done ...\")\n",
    "\n",
    "# transformations\n",
    "# change as required\n",
    "print(\"\\n*** Transformations ***\")\n",
    "print(\"None ...\")\n",
    "\n",
    "# check outlier count\n",
    "print('\\n*** Outlier Count ***')\n",
    "print(utils.OutlierCount(df))\n",
    "\n",
    "# check outlier values\n",
    "print('\\n*** Outlier Values ***')\n",
    "print(utils.OutlierValues(df))\n",
    "\n",
    "# handle outliers if required\n",
    "\n",
    "# check zeros\n",
    "print('\\n*** Columns With Zeros ***')\n",
    "print((df==0).sum())\n",
    "\n",
    "# handle zeros if required\n",
    "\n",
    "# check variance\n",
    "print('\\n*** Variance In Columns ***')\n",
    "print(df.var())\n",
    "\n",
    "# check std dev \n",
    "print('\\n*** StdDev In Columns ***')\n",
    "print(df.std())\n",
    "\n",
    "# drop col if all values are same\n",
    "print(\"\\n*** Same Value Cols Drop ***\")\n",
    "lDropCols = utils.SameValuesCols(df, depVars)\n",
    "print(lDropCols)\n",
    "if lDropCols != []:\n",
    "    df = df.drop(lDropCols, axis=1)\n",
    "print(\"Done ...\")\n",
    "\n",
    "# handle normalization if required\n",
    "\n",
    "# drop col if more than 50% null values\n",
    "print(\"\\n*** Null Value Cols Drop ***\")\n",
    "lDropCols = utils.NullValuesCols(df, depVars, 0.50)\n",
    "print(lDropCols)\n",
    "if lDropCols != []:\n",
    "    df = df.drop(lDropCols, axis=1)\n",
    "print(\"Done ...\")\n",
    "\n",
    "# check nulls\n",
    "print('\\n*** Columns With Nulls ***')\n",
    "print(df.isnull().sum()) \n",
    "\n",
    "# handle nulls if required\n",
    "\n",
    "# check relation with corelation - table\n",
    "print(\"\\n*** Correlation Table ***\")\n",
    "pd.options.display.float_format = '{:,.3f}'.format\n",
    "print(df.corr())\n",
    "\n",
    "# handle multi colinearity if required\n"
   ]
  },
  {
   "cell_type": "code",
   "execution_count": 7,
   "metadata": {},
   "outputs": [
    {
     "name": "stdout",
     "output_type": "stream",
     "text": [
      "\n",
      "*** Heat Map ***\n"
     ]
    },
    {
     "data": {
      "image/png": "[encoded data removed]",
      "text/plain": [
       "<Figure size 576x576 with 2 Axes>"
      ]
     },
     "metadata": {},
     "output_type": "display_data"
    },
    {
     "name": "stdout",
     "output_type": "stream",
     "text": [
      "\n",
      "*** Boxplot ***\n"
     ]
    },
    {
     "data": {
      "image/png": "[encoded data removed]",
      "text/plain": [
       "<Figure size 432x288 with 1 Axes>"
      ]
     },
     "metadata": {},
     "output_type": "display_data"
    },
    {
     "data": {
      "image/png": "[encoded data removed]",
      "text/plain": [
       "<Figure size 432x288 with 1 Axes>"
      ]
     },
     "metadata": {},
     "output_type": "display_data"
    },
    {
     "data": {
      "image/png": "[encoded data removed]",
      "text/plain": [
       "<Figure size 432x288 with 1 Axes>"
      ]
     },
     "metadata": {},
     "output_type": "display_data"
    },
    {
     "name": "stdout",
     "output_type": "stream",
     "text": [
      "\n",
      "*** Histograms ***\n"
     ]
    },
    {
     "data": {
      "image/png": "[encoded data removed]",
      "text/plain": [
       "<Figure size 432x288 with 1 Axes>"
      ]
     },
     "metadata": {},
     "output_type": "display_data"
    },
    {
     "data": {
      "image/png": "[encoded data removed]",
      "text/plain": [
       "<Figure size 432x288 with 1 Axes>"
      ]
     },
     "metadata": {},
     "output_type": "display_data"
    },
    {
     "data": {
      "image/png": "[encoded data removed]",
      "text/plain": [
       "<Figure size 432x288 with 1 Axes>"
      ]
     },
     "metadata": {},
     "output_type": "display_data"
    },
    {
     "name": "stdout",
     "output_type": "stream",
     "text": [
      "\n",
      "*** Scatterplot ***\n",
      "Advertising\n"
     ]
    },
    {
     "data": {
      "image/png": "[encoded data removed]",
      "text/plain": [
       "<Figure size 432x288 with 1 Axes>"
      ]
     },
     "metadata": {},
     "output_type": "display_data"
    },
    {
     "data": {
      "image/png": "[encoded data removed]",
      "text/plain": [
       "<Figure size 432x288 with 1 Axes>"
      ]
     },
     "metadata": {},
     "output_type": "display_data"
    },
    {
     "name": "stdout",
     "output_type": "stream",
     "text": [
      "\n",
      "*** Distribution Plot ***\n",
      "No Categoric Variables Found\n"
     ]
    }
   ],
   "source": [
    "# check relation with corelation - heatmap\n",
    "print(\"\\n*** Heat Map ***\")\n",
    "plt.figure(figsize=(8,8))\n",
    "ax = sns.heatmap(df.corr(), annot=True, cmap=\"PiYG\")\n",
    "# data.corr().style.background_gradient(cmap='coolwarm').set_precision(2)\n",
    "bottom, top = ax.get_ylim()\n",
    "ax.set_ylim(bottom+0.5, top-0.5)\n",
    "plt.show()\n",
    "\n",
    "# boxplot\n",
    "print('\\n*** Boxplot ***')\n",
    "colNames = df.columns.tolist()\n",
    "for colName in colNames:\n",
    "    plt.figure()\n",
    "    sns.boxplot(y=df[colName], color='b')\n",
    "    plt.title(colName)\n",
    "    plt.ylabel(colName)\n",
    "    plt.xlabel('Bins')\n",
    "    plt.show()\n",
    "\n",
    "# histograms\n",
    "# https://www.qimacros.com/histogram-excel/how-to-determine-histogram-bin-interval/\n",
    "# plot histograms\n",
    "print('\\n*** Histograms ***')\n",
    "colNames = df.columns.tolist()\n",
    "for colName in colNames:\n",
    "    colValues = df[colName].values\n",
    "    plt.figure()\n",
    "    sns.distplot(colValues, bins=7, kde=False, color='b')\n",
    "    plt.title(colName)\n",
    "    plt.ylabel(colName)\n",
    "    plt.xlabel('Bins')\n",
    "    plt.show()\n",
    "\n",
    "# scatterplots\n",
    "# plot Sscatterplot\n",
    "print('\\n*** Scatterplot ***')\n",
    "colNames = df.columns.tolist()\n",
    "colNames.remove(depVars)\n",
    "print(colName)\n",
    "for colName in colNames:\n",
    "    colValues = df[colName].values\n",
    "    plt.figure()\n",
    "    sns.regplot(data=df, x=depVars, y=colName, color= 'b', scatter_kws={\"s\": 5})\n",
    "    plt.title(depVars + ' v/s ' + colName)\n",
    "    plt.show()\n",
    "\n",
    "# class count plot\n",
    "colNames = df.columns.tolist()\n",
    "colNames.remove(depVars)\n",
    "print(\"\\n*** Distribution Plot ***\")\n",
    "bFlag = False\n",
    "for colName in colNames:\n",
    "    if len(df[colName].unique()) > 7:\n",
    "        continue\n",
    "    plt.figure()\n",
    "    sns.countplot(df[colName],label=\"Count\")\n",
    "    plt.title(colName)\n",
    "    plt.show()\n",
    "    cFlag = True\n",
    "if bFlag==False:\n",
    "    print(\"No Categoric Variables Found\")"
   ]
  },
  {
   "cell_type": "code",
   "execution_count": 9,
   "metadata": {},
   "outputs": [
    {
     "name": "stdout",
     "output_type": "stream",
     "text": [
      "\n",
      "*** Prepare Data ***\n",
      "Train Count: 12\n",
      "Test Count : 3\n"
     ]
    }
   ],
   "source": [
    "print(\"\\n*** Prepare Data ***\")\n",
    "dfTrain = df.sample(frac=0.8, random_state=707)\n",
    "dfTest = df.drop(dfTrain.index)\n",
    "print(\"Train Count:\",len(dfTrain.index))\n",
    "print(\"Test Count :\",len(dfTest.index))"
   ]
  },
  {
   "cell_type": "code",
   "execution_count": 10,
   "metadata": {},
   "outputs": [
    {
     "name": "stdout",
     "output_type": "stream",
     "text": [
      "\n",
      "*** Regression Data ***\n",
      "['Qty Sold', 'Unit Price', 'Advertising']\n",
      "['Unit Price', 'Advertising']\n"
     ]
    }
   ],
   "source": [
    "print(\"\\n*** Regression Data ***\")\n",
    "allCols = dfTrain.columns.tolist()\n",
    "print(allCols)\n",
    "allCols.remove(depVars)\n",
    "print(allCols)"
   ]
  },
  {
   "cell_type": "code",
   "execution_count": 11,
   "metadata": {},
   "outputs": [
    {
     "name": "stdout",
     "output_type": "stream",
     "text": [
      "\n",
      "*** Regression Summary ***\n",
      "                            OLS Regression Results                            \n",
      "==============================================================================\n",
      "Dep. Variable:               Qty Sold   R-squared:                       0.790\n",
      "Model:                            OLS   Adj. R-squared:                  0.744\n",
      "Method:                 Least Squares   F-statistic:                     16.97\n",
      "Date:                Sun, 03 Apr 2022   Prob (F-statistic):           0.000883\n",
      "Time:                        08:37:02   Log-Likelihood:                -93.168\n",
      "No. Observations:                  12   AIC:                             192.3\n",
      "Df Residuals:                       9   BIC:                             193.8\n",
      "Df Model:                           2                                         \n",
      "Covariance Type:            nonrobust                                         \n",
      "===============================================================================\n",
      "                  coef    std err          t      P>|t|      [0.025      0.975]\n",
      "-------------------------------------------------------------------------------\n",
      "const        7405.8086    619.227     11.960      0.000    6005.019    8806.599\n",
      "Unit Price   -524.9759    119.827     -4.381      0.002    -796.045    -253.907\n",
      "Advertising     0.6355      0.155      4.100      0.003       0.285       0.986\n",
      "==============================================================================\n",
      "Omnibus:                        8.322   Durbin-Watson:                   1.790\n",
      "Prob(Omnibus):                  0.016   Jarque-Bera (JB):                4.049\n",
      "Skew:                           1.285   Prob(JB):                        0.132\n",
      "Kurtosis:                       4.220   Cond. No.                     8.10e+03\n",
      "==============================================================================\n",
      "\n",
      "Notes:\n",
      "[1] Standard Errors assume that the covariance matrix of the errors is correctly specified.\n",
      "[2] The condition number is large, 8.1e+03. This might indicate that there are\n",
      "strong multicollinearity or other numerical problems.\n"
     ]
    }
   ],
   "source": [
    "print(\"\\n*** Regression Summary ***\")\n",
    "import statsmodels.api as sm\n",
    "X = sm.add_constant(dfTrain[allCols])\n",
    "y = dfTrain[depVars]\n",
    "OlsSmry = sm.OLS(y, X)\n",
    "LRModel = OlsSmry.fit()\n",
    "print(LRModel.summary())\n"
   ]
  },
  {
   "cell_type": "code",
   "execution_count": 12,
   "metadata": {},
   "outputs": [
    {
     "name": "stdout",
     "output_type": "stream",
     "text": [
      "\n",
      "*** Drop Cols ***\n",
      "['Unit Price', 'Advertising']\n",
      "['Unit Price', 'Advertising']\n"
     ]
    }
   ],
   "source": [
    "# remove columns with p-value > 0.05\n",
    "# chnage as require\n",
    "print(\"\\n*** Drop Cols ***\")\n",
    "print(allCols)\n",
    "#allCols.remove('gender')\n",
    "#allCols.remove('noise')\n",
    "print(allCols)"
   ]
  },
  {
   "cell_type": "code",
   "execution_count": 13,
   "metadata": {},
   "outputs": [
    {
     "name": "stdout",
     "output_type": "stream",
     "text": [
      "\n",
      "*** Regression Summary Again ***\n",
      "                            OLS Regression Results                            \n",
      "==============================================================================\n",
      "Dep. Variable:               Qty Sold   R-squared:                       0.790\n",
      "Model:                            OLS   Adj. R-squared:                  0.744\n",
      "Method:                 Least Squares   F-statistic:                     16.97\n",
      "Date:                Sun, 03 Apr 2022   Prob (F-statistic):           0.000883\n",
      "Time:                        08:37:21   Log-Likelihood:                -93.168\n",
      "No. Observations:                  12   AIC:                             192.3\n",
      "Df Residuals:                       9   BIC:                             193.8\n",
      "Df Model:                           2                                         \n",
      "Covariance Type:            nonrobust                                         \n",
      "===============================================================================\n",
      "                  coef    std err          t      P>|t|      [0.025      0.975]\n",
      "-------------------------------------------------------------------------------\n",
      "const        7405.8086    619.227     11.960      0.000    6005.019    8806.599\n",
      "Unit Price   -524.9759    119.827     -4.381      0.002    -796.045    -253.907\n",
      "Advertising     0.6355      0.155      4.100      0.003       0.285       0.986\n",
      "==============================================================================\n",
      "Omnibus:                        8.322   Durbin-Watson:                   1.790\n",
      "Prob(Omnibus):                  0.016   Jarque-Bera (JB):                4.049\n",
      "Skew:                           1.285   Prob(JB):                        0.132\n",
      "Kurtosis:                       4.220   Cond. No.                     8.10e+03\n",
      "==============================================================================\n",
      "\n",
      "Notes:\n",
      "[1] Standard Errors assume that the covariance matrix of the errors is correctly specified.\n",
      "[2] The condition number is large, 8.1e+03. This might indicate that there are\n",
      "strong multicollinearity or other numerical problems.\n",
      "\n",
      "*** Regression Data For Train ***\n",
      "(12, 2)\n",
      "(12,)\n",
      "<class 'numpy.ndarray'>\n",
      "<class 'numpy.ndarray'>\n",
      "Done ...\n",
      "\n",
      "*** Regression Model ***\n",
      "LinearRegression()\n",
      "Done ...\n"
     ]
    }
   ],
   "source": [
    "# regression summary for feature\n",
    "print(\"\\n*** Regression Summary Again ***\")\n",
    "X = sm.add_constant(dfTrain[allCols])\n",
    "y = dfTrain[depVars]\n",
    "OlsSmry = sm.OLS(y, X)\n",
    "LRModel = OlsSmry.fit()\n",
    "print(LRModel.summary())\n",
    "\n",
    "# prepare train data\n",
    "print(\"\\n*** Regression Data For Train ***\")\n",
    "X_train = dfTrain[allCols].values\n",
    "y_train = dfTrain[depVars].values\n",
    "# print \n",
    "print(X_train.shape)\n",
    "print(y_train.shape)\n",
    "print(type(X_train))\n",
    "print(type(y_train))\n",
    "print(\"Done ...\")\n",
    "\n",
    "# create model\n",
    "print(\"\\n*** Regression Model ***\")\n",
    "from sklearn.linear_model import LinearRegression\n",
    "# create empty model\n",
    "model = LinearRegression()\n",
    "# train model with train data\n",
    "model.fit(X_train,y_train)\n",
    "# predict train ... required for r2 computation\n",
    "p_train = model.predict(X_train)\n",
    "print(model)\n",
    "print(\"Done ...\")\n",
    "\n"
   ]
  },
  {
   "cell_type": "code",
   "execution_count": 14,
   "metadata": {},
   "outputs": [
    {
     "name": "stdout",
     "output_type": "stream",
     "text": [
      "\n",
      "*** Regression Data For Test ***\n",
      "['Unit Price', 'Advertising']\n",
      "(3, 2)\n",
      "(3,)\n",
      "<class 'numpy.ndarray'>\n",
      "<class 'numpy.ndarray'>\n",
      "Done ...\n",
      "\n",
      "*** Predict - Test Data ***\n",
      "Done ...\n"
     ]
    }
   ],
   "source": [
    "# prepare test data\n",
    "print(\"\\n*** Regression Data For Test ***\")\n",
    "print(allCols)\n",
    "# split\n",
    "X_test = dfTest[allCols].values\n",
    "y_test = dfTest[depVars].values\n",
    "# print\n",
    "print(X_test.shape)\n",
    "print(y_test.shape)\n",
    "print(type(X_test))\n",
    "print(type(y_test))\n",
    "print(\"Done ...\")\n",
    "\n",
    "# predict\n",
    "print(\"\\n*** Predict - Test Data ***\")\n",
    "p_test = model.predict(X_test)\n",
    "dfTest['predict'] = p_test\n",
    "print(\"Done ...\")"
   ]
  },
  {
   "cell_type": "code",
   "execution_count": 15,
   "metadata": {},
   "outputs": [
    {
     "name": "stdout",
     "output_type": "stream",
     "text": [
      "\n",
      "*** Scatter Plot ***\n"
     ]
    },
    {
     "data": {
      "image/png": "[encoded data removed]",
      "text/plain": [
       "<Figure size 432x288 with 1 Axes>"
      ]
     },
     "metadata": {},
     "output_type": "display_data"
    },
    {
     "name": "stdout",
     "output_type": "stream",
     "text": [
      "\n",
      "*** R-Square ***\n",
      "0.7904143795281656\n",
      "\n",
      "*** Adj R-Square ***\n",
      "0.7438397972010913\n",
      "\n",
      "*** Mean Absolute Error ***\n",
      "690.9306102226756\n",
      "\n",
      "*** Mean Squared Error ***\n",
      "530379.6096647949\n"
     ]
    }
   ],
   "source": [
    "# visualize \n",
    "print(\"\\n*** Scatter Plot ***\")\n",
    "plt.figure()\n",
    "#sns.regplot(data=dfTest, x=depVars, y='predict', color='b', scatter_kws={\"s\": 5})\n",
    "sns.regplot(x=y_test, y=p_test, color='b', scatter_kws={\"s\": 5})\n",
    "plt.show()\n",
    "\n",
    "# R-Square\n",
    "print('\\n*** R-Square ***')\n",
    "from sklearn.metrics import r2_score\n",
    "r2 = r2_score(y_train, p_train)\n",
    "print(r2)\n",
    "\n",
    "# adj r-square  \n",
    "print('\\n*** Adj R-Square ***')\n",
    "adj_r2 = (1 - (1 - r2) * ((X_train.shape[0] - 1) / \n",
    "          (X_train.shape[0] - X_train.shape[1] - 1)))\n",
    "print(adj_r2)\n",
    "\n",
    "# mae \n",
    "print(\"\\n*** Mean Absolute Error ***\")\n",
    "from sklearn.metrics import mean_absolute_error\n",
    "mae = mean_absolute_error(y_test, p_test)\n",
    "print(mae)\n",
    "\n",
    "# mse \n",
    "print(\"\\n*** Mean Squared Error ***\")\n",
    "from sklearn.metrics import mean_squared_error\n",
    "mse = mean_squared_error(y_test, p_test)\n",
    "print(mse)"
   ]
  },
  {
   "cell_type": "code",
   "execution_count": 16,
   "metadata": {},
   "outputs": [
    {
     "name": "stdout",
     "output_type": "stream",
     "text": [
      "\n",
      "*** Root Mean Squared Error ***\n",
      "728.271659248659\n",
      "\n",
      "*** Scatter Index ***\n",
      "0.1116125148273807\n",
      "\n",
      "*** Relative Root Mean Squared Error ***\n",
      "0.08608094865793804\n"
     ]
    }
   ],
   "source": [
    "# rmse \n",
    "# RMSE measures the error.  How good is an error depends on the amplitude of your data. \n",
    "# RMSE should be less 10% for mean(depVars)\n",
    "print(\"\\n*** Root Mean Squared Error ***\")\n",
    "rmse = np.sqrt(mse)\n",
    "print(rmse)\n",
    "\n",
    "\n",
    "# scatter index (SI) is defined to judge whether RMSE is good or not. \n",
    "# SI=RMSE/mean of actual data \n",
    "# If SI is less than one, your estimations are acceptable.\n",
    "# closer to zero the better\n",
    "# https://www.theanalysisfactor.com/assessing-the-fit-of-regression-models/\n",
    "# also called normalised RMSE\n",
    "# https://www.analyticsvidhya.com/blog/2021/10/evaluation-metric-for-regression-models/\n",
    "print('\\n*** Scatter Index ***')\n",
    "si = rmse/y_train.mean()\n",
    "print(si)\n",
    "\n",
    "# relative root mean squared error\n",
    "# Excellent when RRMSE < .1\n",
    "# Good when RRMSE is between .1 and .2\n",
    "# Fair when RRMSE is between .2 and .5\n",
    "# Poor when RRMSE > .5\n",
    "def getRRMSE(true, pred):\n",
    "    num = np.sum(np.square(true - pred))\n",
    "    den = np.sum(np.square(pred))\n",
    "    squared_error = num/den\n",
    "    rrmse = np.sqrt(squared_error)\n",
    "    return rrmse\n",
    "print('\\n*** Relative Root Mean Squared Error ***')\n",
    "rrmse = getRRMSE(y_train, p_train)\n",
    "print(rrmse)\n"
   ]
  },
  {
   "cell_type": "code",
   "execution_count": 17,
   "metadata": {},
   "outputs": [
    {
     "name": "stdout",
     "output_type": "stream",
     "text": [
      "\n",
      "*** Regression Summary Again ***\n",
      "                            OLS Regression Results                            \n",
      "==============================================================================\n",
      "Dep. Variable:               Qty Sold   R-squared:                       0.764\n",
      "Model:                            OLS   Adj. R-squared:                  0.724\n",
      "Method:                 Least Squares   F-statistic:                     19.39\n",
      "Date:                Sun, 03 Apr 2022   Prob (F-statistic):           0.000174\n",
      "Time:                        08:51:08   Log-Likelihood:                -116.66\n",
      "No. Observations:                  15   AIC:                             239.3\n",
      "Df Residuals:                      12   BIC:                             241.4\n",
      "Df Model:                           2                                         \n",
      "Covariance Type:            nonrobust                                         \n",
      "===============================================================================\n",
      "                  coef    std err          t      P>|t|      [0.025      0.975]\n",
      "-------------------------------------------------------------------------------\n",
      "const        7860.9939    490.450     16.028      0.000    6792.395    8929.593\n",
      "Unit Price   -578.8107    105.359     -5.494      0.000    -808.368    -349.253\n",
      "Advertising     0.5864      0.144      4.064      0.002       0.272       0.901\n",
      "==============================================================================\n",
      "Omnibus:                        2.950   Durbin-Watson:                   2.521\n",
      "Prob(Omnibus):                  0.229   Jarque-Bera (JB):                1.461\n",
      "Skew:                           0.760   Prob(JB):                        0.482\n",
      "Kurtosis:                       3.159   Cond. No.                     6.93e+03\n",
      "==============================================================================\n",
      "\n",
      "Notes:\n",
      "[1] Standard Errors assume that the covariance matrix of the errors is correctly specified.\n",
      "[2] The condition number is large, 6.93e+03. This might indicate that there are\n",
      "strong multicollinearity or other numerical problems.\n",
      "\n",
      "*** Regression Model ***\n",
      "LinearRegression()\n",
      "\n",
      "*** Predict Data - Read ***\n",
      "Done ...\n",
      "\n",
      "*** Structure ***\n",
      "<class 'pandas.core.frame.DataFrame'>\n",
      "RangeIndex: 5 entries, 0 to 4\n",
      "Data columns (total 3 columns):\n",
      " #   Column       Non-Null Count  Dtype  \n",
      "---  ------       --------------  -----  \n",
      " 0   Qty Sold     0 non-null      float64\n",
      " 1   Unit Price   5 non-null      float64\n",
      " 2   Advertising  5 non-null      int64  \n",
      "dtypes: float64(2), int64(1)\n",
      "memory usage: 248.0 bytes\n",
      "None\n",
      "\n",
      "*** Head ***\n",
      "   Qty Sold  Unit Price  Advertising\n",
      "0       nan       2.000         2000\n",
      "1       nan       3.000         3000\n",
      "2       nan       4.000         4000\n",
      "3       nan       5.000         5000\n",
      "4       nan       6.000         6000\n",
      "\n",
      "*** Drop Cols ***\n",
      "N/A ... \n",
      "\n",
      "*** Transformation ***\n",
      "None ... \n",
      "\n",
      "*** Columns With Nulls ***\n",
      "Unit Price     0\n",
      "Advertising    0\n",
      "dtype: int64\n",
      "Done ... \n",
      "\n",
      "*** Split Predict Data ***\n",
      "['Unit Price', 'Advertising']\n",
      "Qty Sold\n",
      "[[2.e+00 2.e+03]\n",
      " [3.e+00 3.e+03]\n",
      " [4.e+00 4.e+03]\n",
      " [5.e+00 5.e+03]\n",
      " [6.e+00 6.e+03]]\n",
      "\n",
      "*** Predict Data ***\n",
      "Done ... \n",
      "2.0 2000 7876.208694388738\n",
      "3.0 3000 7883.816073350351\n",
      "4.0 4000 7891.423452311964\n",
      "5.0 5000 7899.030831273577\n",
      "6.0 6000 7906.638210235191\n"
     ]
    }
   ],
   "source": [
    "# regression summary for feature\n",
    "print(\"\\n*** Regression Summary Again ***\")\n",
    "X = sm.add_constant(df[allCols])\n",
    "y = df[depVars]\n",
    "OlsSmry = sm.OLS(y, X)\n",
    "LRModel = OlsSmry.fit()\n",
    "print(LRModel.summary())\n",
    "\n",
    "# now create linear regression model\n",
    "print(\"\\n*** Regression Model ***\")\n",
    "X = df[allCols].values\n",
    "y = df[depVars].values\n",
    "model = LinearRegression()\n",
    "model.fit(X,y)\n",
    "print(model)\n",
    "\n",
    "# read dataset\n",
    "print(\"\\n*** Predict Data - Read ***\")\n",
    "dfp = pd.read_csv('./data/mlr-qtypriceads-prd.csv')\n",
    "print(\"Done ...\")\n",
    "\n",
    "print(\"\\n*** Structure ***\")\n",
    "print(dfp.info())\n",
    "\n",
    "print(\"\\n*** Head ***\")\n",
    "print(dfp.head())\n",
    "\n",
    "# not required\n",
    "print(\"\\n*** Drop Cols ***\")\n",
    "print(\"N/A ... \")\n",
    "\n",
    "# transformation\n",
    "# change as required\n",
    "print(\"\\n*** Transformation ***\")\n",
    "print(\"None ... \")\n",
    "\n",
    "# check nulls\n",
    "print('\\n*** Columns With Nulls ***')\n",
    "print(dfp[allCols].isnull().sum()) \n",
    "print(\"Done ... \")\n",
    "\n",
    "# split X & y\n",
    "print(\"\\n*** Split Predict Data ***\")\n",
    "print(allCols)\n",
    "print(depVars)\n",
    "X_pred = dfp[allCols].values\n",
    "#y_pred = dfp[depVars].values\n",
    "print(X_pred)\n",
    "#print(y_pred)\n",
    "\n",
    "# predict\n",
    "print(\"\\n*** Predict Data ***\")\n",
    "p_pred = model.predict(X_pred)\n",
    "dfp['predict'] = p_pred\n",
    "print(\"Done ... \")\n",
    "\n",
    "# no y_pred values given\n",
    "# so show predicted values\n",
    "for idx in dfp.index:\n",
    "     print(dfp['Unit Price'][idx], dfp['Advertising'][idx], dfp['predict'][idx])\n"
   ]
  },
  {
   "cell_type": "code",
   "execution_count": 18,
   "metadata": {},
   "outputs": [
    {
     "name": "stdout",
     "output_type": "stream",
     "text": [
      "\n",
      "*** Classfier Object ***\n"
     ]
    },
    {
     "ename": "NameError",
     "evalue": "name 'SVC' is not defined",
     "output_type": "error",
     "traceback": [
      "\u001b[1;31m---------------------------------------------------------------------------\u001b[0m",
      "\u001b[1;31mNameError\u001b[0m                                 Traceback (most recent call last)",
      "\u001b[1;32m<ipython-input-18-9b2038b4ddbd>\u001b[0m in \u001b[0;36m<module>\u001b[1;34m\u001b[0m\n\u001b[0;32m      1\u001b[0m \u001b[0mprint\u001b[0m\u001b[1;33m(\u001b[0m\u001b[1;34m\"\\n*** Classfier Object ***\"\u001b[0m\u001b[1;33m)\u001b[0m\u001b[1;33m\u001b[0m\u001b[1;33m\u001b[0m\u001b[0m\n\u001b[1;32m----> 2\u001b[1;33m \u001b[0mmodel\u001b[0m \u001b[1;33m=\u001b[0m \u001b[0mSVC\u001b[0m\u001b[1;33m(\u001b[0m\u001b[0mrandom_state\u001b[0m\u001b[1;33m=\u001b[0m\u001b[1;36m1\u001b[0m\u001b[1;33m)\u001b[0m\u001b[1;33m\u001b[0m\u001b[1;33m\u001b[0m\u001b[0m\n\u001b[0m\u001b[0;32m      3\u001b[0m \u001b[0mprint\u001b[0m\u001b[1;33m(\u001b[0m\u001b[0mmodel\u001b[0m\u001b[1;33m)\u001b[0m\u001b[1;33m\u001b[0m\u001b[1;33m\u001b[0m\u001b[0m\n\u001b[0;32m      4\u001b[0m \u001b[1;31m# fit the model\u001b[0m\u001b[1;33m\u001b[0m\u001b[1;33m\u001b[0m\u001b[1;33m\u001b[0m\u001b[0m\n\u001b[0;32m      5\u001b[0m \u001b[0mmodel\u001b[0m\u001b[1;33m.\u001b[0m\u001b[0mfit\u001b[0m\u001b[1;33m(\u001b[0m\u001b[0mX\u001b[0m\u001b[1;33m,\u001b[0m\u001b[0my\u001b[0m\u001b[1;33m)\u001b[0m\u001b[1;33m\u001b[0m\u001b[1;33m\u001b[0m\u001b[0m\n",
      "\u001b[1;31mNameError\u001b[0m: name 'SVC' is not defined"
     ]
    }
   ],
   "source": [
    "print(\"\\n*** Classfier Object ***\")\n",
    "model = SVC(random_state=1)\n",
    "print(model)\n",
    "# fit the model\n",
    "model.fit(X,y)"
   ]
  },
  {
   "cell_type": "code",
   "execution_count": null,
   "metadata": {},
   "outputs": [],
   "source": []
  }
 ],
 "metadata": {
  "kernelspec": {
   "display_name": "Python 3",
   "language": "python",
   "name": "python3"
  },
  "language_info": {
   "codemirror_mode": {
    "name": "ipython",
    "version": 3
   },
   "file_extension": ".py",
   "mimetype": "text/x-python",
   "name": "python",
   "nbconvert_exporter": "python",
   "pygments_lexer": "ipython3",
   "version": "3.8.2"
  }
 },
 "nbformat": 4,
 "nbformat_minor": 4
}
